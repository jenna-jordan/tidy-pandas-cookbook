{
 "cells": [
  {
   "cell_type": "markdown",
   "metadata": {},
   "source": [
    "# Explore\n",
    "\n",
    "Recipes to explore datasets: detangle functional dependencies and identify candidate keys."
   ]
  },
  {
   "cell_type": "code",
   "execution_count": 1,
   "metadata": {},
   "outputs": [],
   "source": [
    "import pandas as pd"
   ]
  },
  {
   "cell_type": "markdown",
   "metadata": {},
   "source": [
    "## Load example datasets"
   ]
  },
  {
   "cell_type": "code",
   "execution_count": 2,
   "metadata": {},
   "outputs": [],
   "source": [
    "ucdp_df = pd.read_csv(\"../example_datasets/source_data/ucdp-prio-acd-191.csv\", encoding = 'utf-8')"
   ]
  },
  {
   "cell_type": "code",
   "execution_count": 3,
   "metadata": {},
   "outputs": [
    {
     "data": {
      "text/plain": [
       "Index(['conflict_id', 'location', 'side_a', 'side_a_id', 'side_a_2nd',\n",
       "       'side_b', 'side_b_id', 'side_b_2nd', 'incompatibility',\n",
       "       'territory_name', 'year', 'intensity_level', 'cumulative_intensity',\n",
       "       'type_of_conflict', 'start_date', 'start_prec', 'start_date2',\n",
       "       'start_prec2', 'ep_end', 'ep_end_date', 'ep_end_prec', 'gwno_a',\n",
       "       'gwno_a_2nd', 'gwno_b', 'gwno_b_2nd', 'gwno_loc', 'region', 'version'],\n",
       "      dtype='object')"
      ]
     },
     "execution_count": 3,
     "metadata": {},
     "output_type": "execute_result"
    }
   ],
   "source": [
    "ucdp_df.columns"
   ]
  },
  {
   "cell_type": "code",
   "execution_count": 4,
   "metadata": {},
   "outputs": [
    {
     "data": {
      "text/html": [
       "<div>\n",
       "<style scoped>\n",
       "    .dataframe tbody tr th:only-of-type {\n",
       "        vertical-align: middle;\n",
       "    }\n",
       "\n",
       "    .dataframe tbody tr th {\n",
       "        vertical-align: top;\n",
       "    }\n",
       "\n",
       "    .dataframe thead th {\n",
       "        text-align: right;\n",
       "    }\n",
       "</style>\n",
       "<table border=\"1\" class=\"dataframe\">\n",
       "  <thead>\n",
       "    <tr style=\"text-align: right;\">\n",
       "      <th></th>\n",
       "      <th>conflict_id</th>\n",
       "      <th>location</th>\n",
       "      <th>side_a</th>\n",
       "      <th>side_a_id</th>\n",
       "      <th>side_a_2nd</th>\n",
       "      <th>side_b</th>\n",
       "      <th>side_b_id</th>\n",
       "      <th>side_b_2nd</th>\n",
       "      <th>incompatibility</th>\n",
       "      <th>territory_name</th>\n",
       "      <th>...</th>\n",
       "      <th>ep_end</th>\n",
       "      <th>ep_end_date</th>\n",
       "      <th>ep_end_prec</th>\n",
       "      <th>gwno_a</th>\n",
       "      <th>gwno_a_2nd</th>\n",
       "      <th>gwno_b</th>\n",
       "      <th>gwno_b_2nd</th>\n",
       "      <th>gwno_loc</th>\n",
       "      <th>region</th>\n",
       "      <th>version</th>\n",
       "    </tr>\n",
       "  </thead>\n",
       "  <tbody>\n",
       "    <tr>\n",
       "      <th>0</th>\n",
       "      <td>13637</td>\n",
       "      <td>Afghanistan</td>\n",
       "      <td>Government of Afghanistan</td>\n",
       "      <td>130</td>\n",
       "      <td>Government of Pakistan, Government of United S...</td>\n",
       "      <td>IS</td>\n",
       "      <td>234</td>\n",
       "      <td>NaN</td>\n",
       "      <td>1</td>\n",
       "      <td>Islamic State</td>\n",
       "      <td>...</td>\n",
       "      <td>0</td>\n",
       "      <td>NaN</td>\n",
       "      <td>NaN</td>\n",
       "      <td>700</td>\n",
       "      <td>770, 2</td>\n",
       "      <td>NaN</td>\n",
       "      <td>NaN</td>\n",
       "      <td>700</td>\n",
       "      <td>3</td>\n",
       "      <td>19.1</td>\n",
       "    </tr>\n",
       "    <tr>\n",
       "      <th>1</th>\n",
       "      <td>13637</td>\n",
       "      <td>Afghanistan</td>\n",
       "      <td>Government of Afghanistan</td>\n",
       "      <td>130</td>\n",
       "      <td>Government of Pakistan, Government of United S...</td>\n",
       "      <td>IS</td>\n",
       "      <td>234</td>\n",
       "      <td>NaN</td>\n",
       "      <td>1</td>\n",
       "      <td>Islamic State</td>\n",
       "      <td>...</td>\n",
       "      <td>0</td>\n",
       "      <td>NaN</td>\n",
       "      <td>NaN</td>\n",
       "      <td>700</td>\n",
       "      <td>770, 2</td>\n",
       "      <td>NaN</td>\n",
       "      <td>NaN</td>\n",
       "      <td>700</td>\n",
       "      <td>3</td>\n",
       "      <td>19.1</td>\n",
       "    </tr>\n",
       "    <tr>\n",
       "      <th>2</th>\n",
       "      <td>13637</td>\n",
       "      <td>Afghanistan</td>\n",
       "      <td>Government of Afghanistan</td>\n",
       "      <td>130</td>\n",
       "      <td>Government of United States of America</td>\n",
       "      <td>IS</td>\n",
       "      <td>234</td>\n",
       "      <td>NaN</td>\n",
       "      <td>1</td>\n",
       "      <td>Islamic State</td>\n",
       "      <td>...</td>\n",
       "      <td>0</td>\n",
       "      <td>NaN</td>\n",
       "      <td>NaN</td>\n",
       "      <td>700</td>\n",
       "      <td>2</td>\n",
       "      <td>NaN</td>\n",
       "      <td>NaN</td>\n",
       "      <td>700</td>\n",
       "      <td>3</td>\n",
       "      <td>19.1</td>\n",
       "    </tr>\n",
       "    <tr>\n",
       "      <th>3</th>\n",
       "      <td>13637</td>\n",
       "      <td>Afghanistan</td>\n",
       "      <td>Government of Afghanistan</td>\n",
       "      <td>130</td>\n",
       "      <td>Government of United States of America</td>\n",
       "      <td>IS</td>\n",
       "      <td>234</td>\n",
       "      <td>NaN</td>\n",
       "      <td>1</td>\n",
       "      <td>Islamic State</td>\n",
       "      <td>...</td>\n",
       "      <td>0</td>\n",
       "      <td>NaN</td>\n",
       "      <td>NaN</td>\n",
       "      <td>700</td>\n",
       "      <td>2</td>\n",
       "      <td>NaN</td>\n",
       "      <td>NaN</td>\n",
       "      <td>700</td>\n",
       "      <td>3</td>\n",
       "      <td>19.1</td>\n",
       "    </tr>\n",
       "    <tr>\n",
       "      <th>4</th>\n",
       "      <td>333</td>\n",
       "      <td>Afghanistan</td>\n",
       "      <td>Government of Afghanistan</td>\n",
       "      <td>130</td>\n",
       "      <td>NaN</td>\n",
       "      <td>PDPA</td>\n",
       "      <td>291</td>\n",
       "      <td>NaN</td>\n",
       "      <td>2</td>\n",
       "      <td>NaN</td>\n",
       "      <td>...</td>\n",
       "      <td>0</td>\n",
       "      <td>NaN</td>\n",
       "      <td>NaN</td>\n",
       "      <td>700</td>\n",
       "      <td>NaN</td>\n",
       "      <td>NaN</td>\n",
       "      <td>NaN</td>\n",
       "      <td>700</td>\n",
       "      <td>3</td>\n",
       "      <td>19.1</td>\n",
       "    </tr>\n",
       "    <tr>\n",
       "      <th>5</th>\n",
       "      <td>333</td>\n",
       "      <td>Afghanistan</td>\n",
       "      <td>Government of Afghanistan</td>\n",
       "      <td>130</td>\n",
       "      <td>NaN</td>\n",
       "      <td>Jam'iyyat-i Islami-yi Afghanistan</td>\n",
       "      <td>292</td>\n",
       "      <td>NaN</td>\n",
       "      <td>2</td>\n",
       "      <td>NaN</td>\n",
       "      <td>...</td>\n",
       "      <td>0</td>\n",
       "      <td>NaN</td>\n",
       "      <td>NaN</td>\n",
       "      <td>700</td>\n",
       "      <td>NaN</td>\n",
       "      <td>NaN</td>\n",
       "      <td>NaN</td>\n",
       "      <td>700</td>\n",
       "      <td>3</td>\n",
       "      <td>19.1</td>\n",
       "    </tr>\n",
       "    <tr>\n",
       "      <th>6</th>\n",
       "      <td>333</td>\n",
       "      <td>Afghanistan</td>\n",
       "      <td>Government of Afghanistan</td>\n",
       "      <td>130</td>\n",
       "      <td>Government of Russia (Soviet Union)</td>\n",
       "      <td>Harakat-i Inqilab-i Islami-yi Afghanistan , Hi...</td>\n",
       "      <td>293, 299, 294, 295, 292, 296</td>\n",
       "      <td>NaN</td>\n",
       "      <td>2</td>\n",
       "      <td>NaN</td>\n",
       "      <td>...</td>\n",
       "      <td>0</td>\n",
       "      <td>NaN</td>\n",
       "      <td>NaN</td>\n",
       "      <td>700</td>\n",
       "      <td>365</td>\n",
       "      <td>NaN</td>\n",
       "      <td>NaN</td>\n",
       "      <td>700</td>\n",
       "      <td>3</td>\n",
       "      <td>19.1</td>\n",
       "    </tr>\n",
       "    <tr>\n",
       "      <th>7</th>\n",
       "      <td>333</td>\n",
       "      <td>Afghanistan</td>\n",
       "      <td>Government of Afghanistan</td>\n",
       "      <td>130</td>\n",
       "      <td>Government of Russia (Soviet Union)</td>\n",
       "      <td>Harakat-i Inqilab-i Islami-yi Afghanistan , Hi...</td>\n",
       "      <td>293, 299, 294, 297, 295, 292, 296</td>\n",
       "      <td>NaN</td>\n",
       "      <td>2</td>\n",
       "      <td>NaN</td>\n",
       "      <td>...</td>\n",
       "      <td>0</td>\n",
       "      <td>NaN</td>\n",
       "      <td>NaN</td>\n",
       "      <td>700</td>\n",
       "      <td>365</td>\n",
       "      <td>NaN</td>\n",
       "      <td>NaN</td>\n",
       "      <td>700</td>\n",
       "      <td>3</td>\n",
       "      <td>19.1</td>\n",
       "    </tr>\n",
       "    <tr>\n",
       "      <th>8</th>\n",
       "      <td>333</td>\n",
       "      <td>Afghanistan</td>\n",
       "      <td>Government of Afghanistan</td>\n",
       "      <td>130</td>\n",
       "      <td>Government of Russia (Soviet Union)</td>\n",
       "      <td>Harakat-i Inqilab-i Islami-yi Afghanistan , Hi...</td>\n",
       "      <td>293, 299, 294, 297, 295, 292, 296</td>\n",
       "      <td>NaN</td>\n",
       "      <td>2</td>\n",
       "      <td>NaN</td>\n",
       "      <td>...</td>\n",
       "      <td>0</td>\n",
       "      <td>NaN</td>\n",
       "      <td>NaN</td>\n",
       "      <td>700</td>\n",
       "      <td>365</td>\n",
       "      <td>NaN</td>\n",
       "      <td>NaN</td>\n",
       "      <td>700</td>\n",
       "      <td>3</td>\n",
       "      <td>19.1</td>\n",
       "    </tr>\n",
       "    <tr>\n",
       "      <th>9</th>\n",
       "      <td>333</td>\n",
       "      <td>Afghanistan</td>\n",
       "      <td>Government of Afghanistan</td>\n",
       "      <td>130</td>\n",
       "      <td>Government of Russia (Soviet Union)</td>\n",
       "      <td>Harakat-i Inqilab-i Islami-yi Afghanistan , Hi...</td>\n",
       "      <td>293, 299, 294, 297, 295, 292, 296</td>\n",
       "      <td>NaN</td>\n",
       "      <td>2</td>\n",
       "      <td>NaN</td>\n",
       "      <td>...</td>\n",
       "      <td>0</td>\n",
       "      <td>NaN</td>\n",
       "      <td>NaN</td>\n",
       "      <td>700</td>\n",
       "      <td>365</td>\n",
       "      <td>NaN</td>\n",
       "      <td>NaN</td>\n",
       "      <td>700</td>\n",
       "      <td>3</td>\n",
       "      <td>19.1</td>\n",
       "    </tr>\n",
       "  </tbody>\n",
       "</table>\n",
       "<p>10 rows × 28 columns</p>\n",
       "</div>"
      ],
      "text/plain": [
       "   conflict_id     location                     side_a side_a_id  \\\n",
       "0        13637  Afghanistan  Government of Afghanistan       130   \n",
       "1        13637  Afghanistan  Government of Afghanistan       130   \n",
       "2        13637  Afghanistan  Government of Afghanistan       130   \n",
       "3        13637  Afghanistan  Government of Afghanistan       130   \n",
       "4          333  Afghanistan  Government of Afghanistan       130   \n",
       "5          333  Afghanistan  Government of Afghanistan       130   \n",
       "6          333  Afghanistan  Government of Afghanistan       130   \n",
       "7          333  Afghanistan  Government of Afghanistan       130   \n",
       "8          333  Afghanistan  Government of Afghanistan       130   \n",
       "9          333  Afghanistan  Government of Afghanistan       130   \n",
       "\n",
       "                                          side_a_2nd  \\\n",
       "0  Government of Pakistan, Government of United S...   \n",
       "1  Government of Pakistan, Government of United S...   \n",
       "2             Government of United States of America   \n",
       "3             Government of United States of America   \n",
       "4                                                NaN   \n",
       "5                                                NaN   \n",
       "6                Government of Russia (Soviet Union)   \n",
       "7                Government of Russia (Soviet Union)   \n",
       "8                Government of Russia (Soviet Union)   \n",
       "9                Government of Russia (Soviet Union)   \n",
       "\n",
       "                                              side_b  \\\n",
       "0                                                 IS   \n",
       "1                                                 IS   \n",
       "2                                                 IS   \n",
       "3                                                 IS   \n",
       "4                                               PDPA   \n",
       "5                  Jam'iyyat-i Islami-yi Afghanistan   \n",
       "6  Harakat-i Inqilab-i Islami-yi Afghanistan , Hi...   \n",
       "7  Harakat-i Inqilab-i Islami-yi Afghanistan , Hi...   \n",
       "8  Harakat-i Inqilab-i Islami-yi Afghanistan , Hi...   \n",
       "9  Harakat-i Inqilab-i Islami-yi Afghanistan , Hi...   \n",
       "\n",
       "                           side_b_id side_b_2nd  incompatibility  \\\n",
       "0                                234        NaN                1   \n",
       "1                                234        NaN                1   \n",
       "2                                234        NaN                1   \n",
       "3                                234        NaN                1   \n",
       "4                                291        NaN                2   \n",
       "5                                292        NaN                2   \n",
       "6       293, 299, 294, 295, 292, 296        NaN                2   \n",
       "7  293, 299, 294, 297, 295, 292, 296        NaN                2   \n",
       "8  293, 299, 294, 297, 295, 292, 296        NaN                2   \n",
       "9  293, 299, 294, 297, 295, 292, 296        NaN                2   \n",
       "\n",
       "  territory_name  ...  ep_end  ep_end_date  ep_end_prec  gwno_a gwno_a_2nd  \\\n",
       "0  Islamic State  ...       0          NaN          NaN     700     770, 2   \n",
       "1  Islamic State  ...       0          NaN          NaN     700     770, 2   \n",
       "2  Islamic State  ...       0          NaN          NaN     700          2   \n",
       "3  Islamic State  ...       0          NaN          NaN     700          2   \n",
       "4            NaN  ...       0          NaN          NaN     700        NaN   \n",
       "5            NaN  ...       0          NaN          NaN     700        NaN   \n",
       "6            NaN  ...       0          NaN          NaN     700        365   \n",
       "7            NaN  ...       0          NaN          NaN     700        365   \n",
       "8            NaN  ...       0          NaN          NaN     700        365   \n",
       "9            NaN  ...       0          NaN          NaN     700        365   \n",
       "\n",
       "   gwno_b gwno_b_2nd  gwno_loc  region version  \n",
       "0     NaN        NaN       700       3    19.1  \n",
       "1     NaN        NaN       700       3    19.1  \n",
       "2     NaN        NaN       700       3    19.1  \n",
       "3     NaN        NaN       700       3    19.1  \n",
       "4     NaN        NaN       700       3    19.1  \n",
       "5     NaN        NaN       700       3    19.1  \n",
       "6     NaN        NaN       700       3    19.1  \n",
       "7     NaN        NaN       700       3    19.1  \n",
       "8     NaN        NaN       700       3    19.1  \n",
       "9     NaN        NaN       700       3    19.1  \n",
       "\n",
       "[10 rows x 28 columns]"
      ]
     },
     "execution_count": 4,
     "metadata": {},
     "output_type": "execute_result"
    }
   ],
   "source": [
    "ucdp_df.head(10)"
   ]
  },
  {
   "cell_type": "markdown",
   "metadata": {},
   "source": [
    "## Identify Candidate Keys"
   ]
  },
  {
   "cell_type": "markdown",
   "metadata": {},
   "source": [
    "The 'conflict_id' column seems like the most likely primary key. Does it satisfy the uniqueness constraint?"
   ]
  },
  {
   "cell_type": "code",
   "execution_count": 5,
   "metadata": {},
   "outputs": [
    {
     "data": {
      "text/plain": [
       "2098"
      ]
     },
     "execution_count": 5,
     "metadata": {},
     "output_type": "execute_result"
    }
   ],
   "source": [
    "ucdp_df['conflict_id'].duplicated().sum()"
   ]
  },
  {
   "cell_type": "markdown",
   "metadata": {},
   "source": [
    "No. Does a combination of the 'conflict_id' and another column satisfy the uniqueness constraint?"
   ]
  },
  {
   "cell_type": "code",
   "execution_count": 6,
   "metadata": {},
   "outputs": [
    {
     "data": {
      "text/plain": [
       "0"
      ]
     },
     "execution_count": 6,
     "metadata": {},
     "output_type": "execute_result"
    }
   ],
   "source": [
    "ucdp_df[['conflict_id', 'year']].duplicated().sum()"
   ]
  },
  {
   "cell_type": "markdown",
   "metadata": {},
   "source": [
    "Yes. Together, 'conflict_id' and 'year' form a composite candidate key. However, I used my prior knowledge of this dataset to form and test this hypothesis. Are there other candidate keys in this dataset as well? Let's find out."
   ]
  },
  {
   "cell_type": "code",
   "execution_count": 7,
   "metadata": {},
   "outputs": [],
   "source": [
    "columns = ucdp_df.columns.tolist()\n",
    "\n",
    "candidate_keys = set()\n",
    "# first, test all single columns\n",
    "for c in columns:\n",
    "    if ucdp_df[c].duplicated().sum() == 0:\n",
    "        candidate_keys.add((c))\n",
    "# next, test all combinations of 2 columns:\n",
    "for c1 in columns:\n",
    "    for c2 in columns:\n",
    "        if c1 == c2:\n",
    "            pass\n",
    "        else:\n",
    "            if ucdp_df[[c1, c2]].duplicated().sum() == 0:\n",
    "                candidate_keys.add((c1, c2))"
   ]
  },
  {
   "cell_type": "code",
   "execution_count": 8,
   "metadata": {},
   "outputs": [
    {
     "data": {
      "text/plain": [
       "{('conflict_id', 'year'), ('year', 'conflict_id')}"
      ]
     },
     "execution_count": 8,
     "metadata": {},
     "output_type": "execute_result"
    }
   ],
   "source": [
    "candidate_keys"
   ]
  },
  {
   "cell_type": "markdown",
   "metadata": {},
   "source": [
    "There are no other candidate keys with 1 or two prime attributes. But, let's generalize and create a function to find all candidate keys given some maximum number of attributes."
   ]
  },
  {
   "cell_type": "code",
   "execution_count": 9,
   "metadata": {},
   "outputs": [],
   "source": [
    "from itertools import combinations"
   ]
  },
  {
   "cell_type": "code",
   "execution_count": 10,
   "metadata": {},
   "outputs": [],
   "source": [
    "def find_candidate_keys(df, max_columns=3):\n",
    "    candidate_keys = []\n",
    "    columns = df.columns.tolist()\n",
    "    column_powerset = []\n",
    "    # generate power set of columns\n",
    "    for i in range(max_columns):\n",
    "        combo = combinations(columns, i+1)\n",
    "        column_powerset.extend(combo)\n",
    "    # test elements in powerset\n",
    "    for combo in column_powerset:\n",
    "        ck = False\n",
    "        if df[list(combo)].duplicated().sum() == 0:\n",
    "            ck = True\n",
    "            for k in candidate_keys:\n",
    "                if set(combo).issuperset(set(k)):\n",
    "                    ck = False\n",
    "        if ck:\n",
    "            candidate_keys.append(combo)\n",
    "            \n",
    "    return candidate_keys"
   ]
  },
  {
   "cell_type": "code",
   "execution_count": 11,
   "metadata": {},
   "outputs": [
    {
     "data": {
      "text/plain": [
       "Index(['conflict_id', 'location', 'side_a', 'side_a_id', 'side_a_2nd',\n",
       "       'side_b', 'side_b_id', 'side_b_2nd', 'incompatibility',\n",
       "       'territory_name', 'year', 'intensity_level', 'cumulative_intensity',\n",
       "       'type_of_conflict', 'start_date', 'start_prec', 'start_date2',\n",
       "       'start_prec2', 'ep_end', 'ep_end_date', 'ep_end_prec', 'gwno_a',\n",
       "       'gwno_a_2nd', 'gwno_b', 'gwno_b_2nd', 'gwno_loc', 'region', 'version'],\n",
       "      dtype='object')"
      ]
     },
     "execution_count": 11,
     "metadata": {},
     "output_type": "execute_result"
    }
   ],
   "source": [
    "ucdp_df.columns"
   ]
  },
  {
   "cell_type": "code",
   "execution_count": 12,
   "metadata": {},
   "outputs": [
    {
     "data": {
      "text/plain": [
       "[('conflict_id', 'year'),\n",
       " ('location', 'territory_name', 'year'),\n",
       " ('side_a', 'side_b', 'year'),\n",
       " ('side_a', 'side_b_id', 'year'),\n",
       " ('side_a_id', 'side_b', 'year'),\n",
       " ('side_a_id', 'side_b_id', 'year'),\n",
       " ('side_b', 'year', 'start_date'),\n",
       " ('side_b', 'year', 'start_date2'),\n",
       " ('side_b', 'year', 'gwno_a'),\n",
       " ('side_b_id', 'year', 'start_date'),\n",
       " ('side_b_id', 'year', 'start_date2'),\n",
       " ('side_b_id', 'year', 'gwno_a'),\n",
       " ('territory_name', 'year', 'start_date'),\n",
       " ('territory_name', 'year', 'gwno_loc')]"
      ]
     },
     "execution_count": 12,
     "metadata": {},
     "output_type": "execute_result"
    }
   ],
   "source": [
    "find_candidate_keys(ucdp_df, max_columns=3)"
   ]
  },
  {
   "cell_type": "markdown",
   "metadata": {},
   "source": [
    "Now we have a list of all possible combinations of attributes (maximum of 3) that can uniquely identify an observation. It will take some knowledge of your dataset to determine the best one, but generally the best one will have the fewest number of attributes."
   ]
  },
  {
   "cell_type": "markdown",
   "metadata": {},
   "source": [
    "## Identify Attributes With No Variance"
   ]
  },
  {
   "cell_type": "markdown",
   "metadata": {},
   "source": [
    "You may have noticed the column called 'version'. This is an example of dataset metadata being contained in the actual dataset - and it has absolutely no variance (same value for every row):"
   ]
  },
  {
   "cell_type": "code",
   "execution_count": 13,
   "metadata": {},
   "outputs": [
    {
     "data": {
      "text/plain": [
       "array([19.1])"
      ]
     },
     "execution_count": 13,
     "metadata": {},
     "output_type": "execute_result"
    }
   ],
   "source": [
    "ucdp_df['version'].unique()"
   ]
  },
  {
   "cell_type": "markdown",
   "metadata": {},
   "source": [
    "You may have also noticed that the column 'ep_end_prec' is empty - and therefore also has no variance:"
   ]
  },
  {
   "cell_type": "code",
   "execution_count": 14,
   "metadata": {},
   "outputs": [
    {
     "data": {
      "text/plain": [
       "array([nan])"
      ]
     },
     "execution_count": 14,
     "metadata": {},
     "output_type": "execute_result"
    }
   ],
   "source": [
    "ucdp_df['ep_end_prec'].unique()"
   ]
  },
  {
   "cell_type": "markdown",
   "metadata": {},
   "source": [
    "These columns can interfere with our other exploratory functions (finding candidate keys and functional dependencies). So, lets create a function to identify which columns have no variance."
   ]
  },
  {
   "cell_type": "code",
   "execution_count": 15,
   "metadata": {},
   "outputs": [],
   "source": [
    "def find_no_variance_columns(df):\n",
    "    no_var_columns = []\n",
    "    columns = df.columns.tolist()\n",
    "    for c in columns:\n",
    "        if df[c].nunique() in [0, 1]:\n",
    "            no_var_columns.append(c)\n",
    "    \n",
    "    return no_var_columns"
   ]
  },
  {
   "cell_type": "code",
   "execution_count": 16,
   "metadata": {},
   "outputs": [
    {
     "data": {
      "text/plain": [
       "['ep_end_prec', 'version']"
      ]
     },
     "execution_count": 16,
     "metadata": {},
     "output_type": "execute_result"
    }
   ],
   "source": [
    "find_no_variance_columns(ucdp_df)"
   ]
  },
  {
   "cell_type": "markdown",
   "metadata": {},
   "source": [
    "## Identify Attributes With Low Variance\n",
    "\n",
    "Attributes with low variance may be categorical variables. For example, 'start_prec' has only 7 possible values:"
   ]
  },
  {
   "cell_type": "code",
   "execution_count": 17,
   "metadata": {},
   "outputs": [
    {
     "data": {
      "text/plain": [
       "array([1, 2, 3, 5, 4, 7, 6])"
      ]
     },
     "execution_count": 17,
     "metadata": {},
     "output_type": "execute_result"
    }
   ],
   "source": [
    "ucdp_df['start_prec'].unique()"
   ]
  },
  {
   "cell_type": "markdown",
   "metadata": {},
   "source": [
    "Let's create a function that find which columns have a low variance given a certain threshold, and how many levels that potential categorical attribute has:"
   ]
  },
  {
   "cell_type": "code",
   "execution_count": 18,
   "metadata": {},
   "outputs": [],
   "source": [
    "def find_low_variance_columns(df, threshold:int):\n",
    "    low_var_columns = []\n",
    "    columns = df.columns.tolist()\n",
    "    for c in columns:\n",
    "        if 1 < df[c].nunique() <= threshold:\n",
    "            low_var_columns.append((c, df[c].nunique()))\n",
    "    \n",
    "    return low_var_columns"
   ]
  },
  {
   "cell_type": "code",
   "execution_count": 19,
   "metadata": {},
   "outputs": [
    {
     "data": {
      "text/plain": [
       "[('incompatibility', 3),\n",
       " ('intensity_level', 2),\n",
       " ('cumulative_intensity', 2),\n",
       " ('type_of_conflict', 4),\n",
       " ('start_prec', 7),\n",
       " ('start_prec2', 7),\n",
       " ('ep_end', 2)]"
      ]
     },
     "execution_count": 19,
     "metadata": {},
     "output_type": "execute_result"
    }
   ],
   "source": [
    "find_low_variance_columns(ucdp_df, 10)"
   ]
  },
  {
   "cell_type": "markdown",
   "metadata": {},
   "source": [
    "## Identify Functional Dependencies"
   ]
  },
  {
   "cell_type": "markdown",
   "metadata": {},
   "source": [
    "Just because 'conflict_id' doesn't uniquely identify the entire observation, doesn't mean that it can't uniquely identify some subset of the columns. Let's find out which columns can be completely determined by 'conflict_id'."
   ]
  },
  {
   "cell_type": "code",
   "execution_count": 20,
   "metadata": {},
   "outputs": [
    {
     "data": {
      "text/plain": [
       "[1]"
      ]
     },
     "execution_count": 20,
     "metadata": {},
     "output_type": "execute_result"
    }
   ],
   "source": [
    "ucdp_df.groupby('conflict_id')['start_date'].nunique().unique().tolist()"
   ]
  },
  {
   "cell_type": "code",
   "execution_count": 21,
   "metadata": {},
   "outputs": [
    {
     "data": {
      "text/plain": [
       "[0, 1]"
      ]
     },
     "execution_count": 21,
     "metadata": {},
     "output_type": "execute_result"
    }
   ],
   "source": [
    "ucdp_df.groupby('conflict_id')['territory_name'].nunique().unique().tolist()"
   ]
  },
  {
   "cell_type": "code",
   "execution_count": 22,
   "metadata": {},
   "outputs": [
    {
     "data": {
      "text/plain": [
       "[1, 2]"
      ]
     },
     "execution_count": 22,
     "metadata": {},
     "output_type": "execute_result"
    }
   ],
   "source": [
    "ucdp_df.groupby('conflict_id')['cumulative_intensity'].nunique().unique().tolist()"
   ]
  },
  {
   "cell_type": "markdown",
   "metadata": {},
   "source": [
    "'start_date' has one unique value per 'conflict_id'. 'territory_name' has either no values or one unique value per 'conflict_id'. 'cumulative_intensity' has one or two unique values per 'conflict_id'.\n",
    "\n",
    "This means that 'start_date' and 'territory_name' are functionally dependent only on 'conflict_id', while 'cumulative_intensity' is not.\n",
    "\n",
    "Let's generalize and create a function that will find all columns that are functionally dependent on a given column (or combination of columns)."
   ]
  },
  {
   "cell_type": "code",
   "execution_count": 23,
   "metadata": {},
   "outputs": [],
   "source": [
    "def find_dependent_columns(df, key:list, drop_no_variance=True):\n",
    "    dependent_columns = []\n",
    "    columns = df.columns.tolist()\n",
    "    if drop_no_variance:\n",
    "        no_var_columns = find_no_variance_columns(df)\n",
    "        if no_var_columns:\n",
    "            for c in no_var_columns:\n",
    "                columns.remove(c)\n",
    "    for k in key:\n",
    "        columns.remove(k)\n",
    "    for c in columns:\n",
    "        unique_elements = df.groupby(key)[c].nunique().unique().tolist()\n",
    "        if (unique_elements == [1]) or (unique_elements == [0]) or (unique_elements == [1, 0]) or (unique_elements == [0, 1]):\n",
    "            dependent_columns.append(c)\n",
    "    \n",
    "    return dependent_columns"
   ]
  },
  {
   "cell_type": "code",
   "execution_count": 24,
   "metadata": {},
   "outputs": [
    {
     "data": {
      "text/plain": [
       "['side_a', 'side_a_id']"
      ]
     },
     "execution_count": 24,
     "metadata": {},
     "output_type": "execute_result"
    }
   ],
   "source": [
    "find_dependent_columns(ucdp_df, ['gwno_a'])"
   ]
  },
  {
   "cell_type": "code",
   "execution_count": 25,
   "metadata": {},
   "outputs": [
    {
     "data": {
      "text/plain": [
       "['location',\n",
       " 'side_a',\n",
       " 'side_a_id',\n",
       " 'incompatibility',\n",
       " 'territory_name',\n",
       " 'start_date',\n",
       " 'start_prec',\n",
       " 'start_prec2',\n",
       " 'ep_end_date',\n",
       " 'gwno_a',\n",
       " 'gwno_b',\n",
       " 'gwno_loc',\n",
       " 'region']"
      ]
     },
     "execution_count": 25,
     "metadata": {},
     "output_type": "execute_result"
    }
   ],
   "source": [
    "find_dependent_columns(ucdp_df, ['conflict_id', 'start_date2'])"
   ]
  },
  {
   "cell_type": "markdown",
   "metadata": {},
   "source": [
    "Now we have a list of all columns that are functionally dependent on both 'conflict_id' and 'start_date2' (episode start date). This indicates that these columns should be split off to form a new table, with 'conflict_id' and 'start_date2' as the composite primary key."
   ]
  },
  {
   "cell_type": "code",
   "execution_count": null,
   "metadata": {},
   "outputs": [],
   "source": []
  }
 ],
 "metadata": {
  "kernelspec": {
   "display_name": "Python [conda env:ds-base-env] *",
   "language": "python",
   "name": "conda-env-ds-base-env-py"
  },
  "language_info": {
   "codemirror_mode": {
    "name": "ipython",
    "version": 3
   },
   "file_extension": ".py",
   "mimetype": "text/x-python",
   "name": "python",
   "nbconvert_exporter": "python",
   "pygments_lexer": "ipython3",
   "version": "3.8.0"
  }
 },
 "nbformat": 4,
 "nbformat_minor": 4
}
