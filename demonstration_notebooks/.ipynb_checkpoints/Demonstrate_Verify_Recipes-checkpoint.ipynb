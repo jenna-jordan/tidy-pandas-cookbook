{
 "cells": [
  {
   "cell_type": "markdown",
   "metadata": {},
   "source": [
    "# Verify\n",
    "\n",
    "Recipes to verify datasets comply with specified uniqueness, integrity, and check constraints."
   ]
  },
  {
   "cell_type": "code",
   "execution_count": 1,
   "metadata": {},
   "outputs": [],
   "source": [
    "import pandas as pd"
   ]
  },
  {
   "cell_type": "markdown",
   "metadata": {},
   "source": [
    "## Load Example Datasets\n",
    "\n",
    "The \"territorial change\" dataset from the CoW has several columns with polity identifiers. Some of these are official country codes, contained in the 'states2016' dataset. Others are supplementary codes for territories - polities that don't rise to the level of statehood by CoW's estimation. These codes are contained in a seperate pdf file. The table in the pdf file has been converted into a csv file using Tabula, resulting in the 'Territories' dataset. To have a complete list of polity codes, the states and territories need to be concatenated."
   ]
  },
  {
   "cell_type": "code",
   "execution_count": 2,
   "metadata": {},
   "outputs": [],
   "source": [
    "tc = pd.read_csv(\"../example_datasets/source_data/tc2014.csv\", encoding='utf-8', na_values=[-9, '.'], dtype={'gainer':'Int64', 'loser':'Int64', 'entity':'Int64'})"
   ]
  },
  {
   "cell_type": "code",
   "execution_count": 3,
   "metadata": {},
   "outputs": [],
   "source": [
    "states = pd.read_csv(\"../example_datasets/source_data/states2016.csv\", encoding='utf-8', \n",
    "                     usecols=['ccode', 'statenme', 'styear', 'endyear']) \\\n",
    "            .rename(columns= {'ccode':'id', 'statenme':'name', 'styear':'startyear'})\n",
    "states['type'] = 'state'"
   ]
  },
  {
   "cell_type": "code",
   "execution_count": 4,
   "metadata": {},
   "outputs": [],
   "source": [
    "terr = pd.read_csv(\"../example_datasets/source_data/Territories.csv\", encoding='utf-8', \n",
    "                   usecols=['Entity Number', 'Name', 'Begin Year', 'End Year']) \\\n",
    "            .rename(columns={'Entity Number':'id', 'Name':'name', 'Begin Year':'startyear', 'End Year':'endyear'})\n",
    "terr['type'] = 'territory'"
   ]
  },
  {
   "cell_type": "code",
   "execution_count": 5,
   "metadata": {},
   "outputs": [],
   "source": [
    "pol = pd.concat([states, terr])\n",
    "pol['startyear'] = pol['startyear'].astype('Int64')\n",
    "pol['endyear'] = pol['endyear'].astype('Int64')"
   ]
  },
  {
   "cell_type": "code",
   "execution_count": 6,
   "metadata": {},
   "outputs": [
    {
     "data": {
      "text/html": [
       "<div>\n",
       "<style scoped>\n",
       "    .dataframe tbody tr th:only-of-type {\n",
       "        vertical-align: middle;\n",
       "    }\n",
       "\n",
       "    .dataframe tbody tr th {\n",
       "        vertical-align: top;\n",
       "    }\n",
       "\n",
       "    .dataframe thead th {\n",
       "        text-align: right;\n",
       "    }\n",
       "</style>\n",
       "<table border=\"1\" class=\"dataframe\">\n",
       "  <thead>\n",
       "    <tr style=\"text-align: right;\">\n",
       "      <th></th>\n",
       "      <th>id</th>\n",
       "      <th>name</th>\n",
       "      <th>startyear</th>\n",
       "      <th>endyear</th>\n",
       "      <th>type</th>\n",
       "    </tr>\n",
       "  </thead>\n",
       "  <tbody>\n",
       "    <tr>\n",
       "      <th>2452</th>\n",
       "      <td>930</td>\n",
       "      <td>New Caledonia and Dependencies</td>\n",
       "      <td>1853</td>\n",
       "      <td>1993</td>\n",
       "      <td>territory</td>\n",
       "    </tr>\n",
       "    <tr>\n",
       "      <th>735</th>\n",
       "      <td>3362</td>\n",
       "      <td>Wallachia</td>\n",
       "      <td>1828</td>\n",
       "      <td>1834</td>\n",
       "      <td>territory</td>\n",
       "    </tr>\n",
       "    <tr>\n",
       "      <th>20</th>\n",
       "      <td>21</td>\n",
       "      <td>Newfoundland</td>\n",
       "      <td>1816</td>\n",
       "      <td>1920</td>\n",
       "      <td>territory</td>\n",
       "    </tr>\n",
       "    <tr>\n",
       "      <th>2332</th>\n",
       "      <td>8203</td>\n",
       "      <td>Pahang</td>\n",
       "      <td>1896</td>\n",
       "      <td>1946</td>\n",
       "      <td>territory</td>\n",
       "    </tr>\n",
       "    <tr>\n",
       "      <th>1709</th>\n",
       "      <td>6823</td>\n",
       "      <td>Dhala</td>\n",
       "      <td>1937</td>\n",
       "      <td>1967</td>\n",
       "      <td>territory</td>\n",
       "    </tr>\n",
       "  </tbody>\n",
       "</table>\n",
       "</div>"
      ],
      "text/plain": [
       "        id                            name  startyear  endyear       type\n",
       "2452   930  New Caledonia and Dependencies       1853     1993  territory\n",
       "735   3362                       Wallachia       1828     1834  territory\n",
       "20      21                    Newfoundland       1816     1920  territory\n",
       "2332  8203                          Pahang       1896     1946  territory\n",
       "1709  6823                           Dhala       1937     1967  territory"
      ]
     },
     "execution_count": 6,
     "metadata": {},
     "output_type": "execute_result"
    }
   ],
   "source": [
    "pol.sample(5)"
   ]
  },
  {
   "cell_type": "markdown",
   "metadata": {},
   "source": [
    "## Check Referential Integrity"
   ]
  },
  {
   "cell_type": "markdown",
   "metadata": {},
   "source": [
    "The 'gainer', 'entity', and 'loser' columns all refer to a polity - and that polity should exist in the polity table. In database terms, tc's 'gainer', 'entity', and 'loser' are \"foreign keys\" to pol's 'id'.\n",
    "\n",
    "Let's make sure that all polity IDs in 'tc' also exist in 'pol'."
   ]
  },
  {
   "cell_type": "code",
   "execution_count": 7,
   "metadata": {},
   "outputs": [
    {
     "data": {
      "text/html": [
       "<div>\n",
       "<style scoped>\n",
       "    .dataframe tbody tr th:only-of-type {\n",
       "        vertical-align: middle;\n",
       "    }\n",
       "\n",
       "    .dataframe tbody tr th {\n",
       "        vertical-align: top;\n",
       "    }\n",
       "\n",
       "    .dataframe thead th {\n",
       "        text-align: right;\n",
       "    }\n",
       "</style>\n",
       "<table border=\"1\" class=\"dataframe\">\n",
       "  <thead>\n",
       "    <tr style=\"text-align: right;\">\n",
       "      <th></th>\n",
       "      <th>number</th>\n",
       "      <th>gainer</th>\n",
       "      <th>entity</th>\n",
       "      <th>loser</th>\n",
       "    </tr>\n",
       "  </thead>\n",
       "  <tbody>\n",
       "    <tr>\n",
       "      <th>370</th>\n",
       "      <td>413</td>\n",
       "      <td>710</td>\n",
       "      <td>711</td>\n",
       "      <td>365</td>\n",
       "    </tr>\n",
       "    <tr>\n",
       "      <th>332</th>\n",
       "      <td>373</td>\n",
       "      <td>200</td>\n",
       "      <td>720</td>\n",
       "      <td>710</td>\n",
       "    </tr>\n",
       "    <tr>\n",
       "      <th>430</th>\n",
       "      <td>473</td>\n",
       "      <td>678</td>\n",
       "      <td>678</td>\n",
       "      <td>640</td>\n",
       "    </tr>\n",
       "    <tr>\n",
       "      <th>784</th>\n",
       "      <td>838</td>\n",
       "      <td>372</td>\n",
       "      <td>372</td>\n",
       "      <td>365</td>\n",
       "    </tr>\n",
       "    <tr>\n",
       "      <th>677</th>\n",
       "      <td>727</td>\n",
       "      <td>260</td>\n",
       "      <td>210</td>\n",
       "      <td>210</td>\n",
       "    </tr>\n",
       "  </tbody>\n",
       "</table>\n",
       "</div>"
      ],
      "text/plain": [
       "     number  gainer  entity  loser\n",
       "370     413     710     711    365\n",
       "332     373     200     720    710\n",
       "430     473     678     678    640\n",
       "784     838     372     372    365\n",
       "677     727     260     210    210"
      ]
     },
     "execution_count": 7,
     "metadata": {},
     "output_type": "execute_result"
    }
   ],
   "source": [
    "tc[['number', 'gainer', 'entity', 'loser']].sample(5)"
   ]
  },
  {
   "cell_type": "code",
   "execution_count": 8,
   "metadata": {},
   "outputs": [
    {
     "data": {
      "text/plain": [
       "{0, 1}"
      ]
     },
     "execution_count": 8,
     "metadata": {},
     "output_type": "execute_result"
    }
   ],
   "source": [
    "polities = set(pol['id'].dropna().unique())\n",
    "tc_gainers = set(tc['gainer'].dropna().unique())\n",
    "tc_gainers - polities"
   ]
  },
  {
   "cell_type": "code",
   "execution_count": 9,
   "metadata": {},
   "outputs": [
    {
     "data": {
      "text/plain": [
       "{0, 1, 822}"
      ]
     },
     "execution_count": 9,
     "metadata": {},
     "output_type": "execute_result"
    }
   ],
   "source": [
    "tc_losers = set(tc['loser'].dropna().unique())\n",
    "tc_losers - polities"
   ]
  },
  {
   "cell_type": "code",
   "execution_count": 10,
   "metadata": {},
   "outputs": [
    {
     "data": {
      "text/plain": [
       "{822}"
      ]
     },
     "execution_count": 10,
     "metadata": {},
     "output_type": "execute_result"
    }
   ],
   "source": [
    "tc_entities = set(tc['entity'].dropna().unique())\n",
    "tc_entities - polities"
   ]
  },
  {
   "cell_type": "markdown",
   "metadata": {},
   "source": [
    "Looks like the polity IDs 0, 1, and 822 are missing from the polity table.\n",
    "\n",
    "Let's create a function that perform this check more generally."
   ]
  },
  {
   "cell_type": "code",
   "execution_count": 11,
   "metadata": {},
   "outputs": [],
   "source": [
    "def check_ids_ref_integrity(primary_df, pdf_id:str, related_df, rdf_fk:list or str, verbose = False):\n",
    "    if type(rdf_fk) == str:\n",
    "        rdf_fk = [rdf_fk]\n",
    "    \n",
    "    ref_integrity = True\n",
    "    missing_ids = set()\n",
    "    \n",
    "    p_ids = set(primary_df[pdf_id].dropna().unique())\n",
    "    for c in rdf_fk:\n",
    "        f_ids = set(related_df[c].dropna().unique())\n",
    "        diff = f_ids - p_ids\n",
    "        if len(diff):\n",
    "            ref_integrity = False\n",
    "            missing_ids.update(diff)\n",
    "    \n",
    "    if verbose:\n",
    "        return missing_ids\n",
    "    else:\n",
    "        return ref_integrity"
   ]
  },
  {
   "cell_type": "code",
   "execution_count": 12,
   "metadata": {},
   "outputs": [
    {
     "data": {
      "text/plain": [
       "False"
      ]
     },
     "execution_count": 12,
     "metadata": {},
     "output_type": "execute_result"
    }
   ],
   "source": [
    "check_ids_ref_integrity(primary_df = pol, \n",
    "                        pdf_id = 'id', \n",
    "                        related_df = tc, \n",
    "                        rdf_fk = 'gainer')"
   ]
  },
  {
   "cell_type": "code",
   "execution_count": 13,
   "metadata": {},
   "outputs": [
    {
     "data": {
      "text/plain": [
       "{0, 1, 822}"
      ]
     },
     "execution_count": 13,
     "metadata": {},
     "output_type": "execute_result"
    }
   ],
   "source": [
    "check_ids_ref_integrity(primary_df = pol, \n",
    "                        pdf_id = 'id', \n",
    "                        related_df = tc, \n",
    "                        rdf_fk = ['gainer', 'loser', 'entity'], \n",
    "                        verbose = True)"
   ]
  },
  {
   "cell_type": "markdown",
   "metadata": {},
   "source": [
    "## Check uniqueness of primary key\n",
    "\n",
    "The most important quality of a primary key is that it is unique.\n",
    "\n",
    "We previously created a new \"episodes\" dataset from the ucdp_df dataset when demonstrating the Transformation recipes. Let's see if this new table is ready to be loaded into the database."
   ]
  },
  {
   "cell_type": "code",
   "execution_count": 14,
   "metadata": {},
   "outputs": [],
   "source": [
    "ucdp_episode = pd.read_csv(\"../example_datasets/transformed_data/ucdp_episodes.csv\")"
   ]
  },
  {
   "cell_type": "code",
   "execution_count": 15,
   "metadata": {},
   "outputs": [
    {
     "data": {
      "text/html": [
       "<div>\n",
       "<style scoped>\n",
       "    .dataframe tbody tr th:only-of-type {\n",
       "        vertical-align: middle;\n",
       "    }\n",
       "\n",
       "    .dataframe tbody tr th {\n",
       "        vertical-align: top;\n",
       "    }\n",
       "\n",
       "    .dataframe thead th {\n",
       "        text-align: right;\n",
       "    }\n",
       "</style>\n",
       "<table border=\"1\" class=\"dataframe\">\n",
       "  <thead>\n",
       "    <tr style=\"text-align: right;\">\n",
       "      <th></th>\n",
       "      <th>conflict_id</th>\n",
       "      <th>start_date2</th>\n",
       "      <th>ep_end_date</th>\n",
       "      <th>start_prec2</th>\n",
       "    </tr>\n",
       "  </thead>\n",
       "  <tbody>\n",
       "    <tr>\n",
       "      <th>0</th>\n",
       "      <td>13637</td>\n",
       "      <td>2015-03-03</td>\n",
       "      <td>NaN</td>\n",
       "      <td>1</td>\n",
       "    </tr>\n",
       "    <tr>\n",
       "      <th>1</th>\n",
       "      <td>333</td>\n",
       "      <td>1978-04-27</td>\n",
       "      <td>NaN</td>\n",
       "      <td>1</td>\n",
       "    </tr>\n",
       "    <tr>\n",
       "      <th>2</th>\n",
       "      <td>431</td>\n",
       "      <td>1979-12-27</td>\n",
       "      <td>1979-12-28</td>\n",
       "      <td>1</td>\n",
       "    </tr>\n",
       "    <tr>\n",
       "      <th>3</th>\n",
       "      <td>13692</td>\n",
       "      <td>2001-10-07</td>\n",
       "      <td>2001-11-13</td>\n",
       "      <td>1</td>\n",
       "    </tr>\n",
       "    <tr>\n",
       "      <th>4</th>\n",
       "      <td>215</td>\n",
       "      <td>1946-10-22</td>\n",
       "      <td>1946-12-31</td>\n",
       "      <td>1</td>\n",
       "    </tr>\n",
       "    <tr>\n",
       "      <th>...</th>\n",
       "      <td>...</td>\n",
       "      <td>...</td>\n",
       "      <td>...</td>\n",
       "      <td>...</td>\n",
       "    </tr>\n",
       "    <tr>\n",
       "      <th>806</th>\n",
       "      <td>402</td>\n",
       "      <td>1994-04-28</td>\n",
       "      <td>1994-07-04</td>\n",
       "      <td>2</td>\n",
       "    </tr>\n",
       "    <tr>\n",
       "      <th>807</th>\n",
       "      <td>318</td>\n",
       "      <td>1967-09-05</td>\n",
       "      <td>NaN</td>\n",
       "      <td>1</td>\n",
       "    </tr>\n",
       "    <tr>\n",
       "      <th>808</th>\n",
       "      <td>318</td>\n",
       "      <td>1967-09-05</td>\n",
       "      <td>1968-12-31</td>\n",
       "      <td>1</td>\n",
       "    </tr>\n",
       "    <tr>\n",
       "      <th>809</th>\n",
       "      <td>318</td>\n",
       "      <td>1973-04-04</td>\n",
       "      <td>NaN</td>\n",
       "      <td>1</td>\n",
       "    </tr>\n",
       "    <tr>\n",
       "      <th>810</th>\n",
       "      <td>318</td>\n",
       "      <td>1973-04-04</td>\n",
       "      <td>1979-12-21</td>\n",
       "      <td>1</td>\n",
       "    </tr>\n",
       "  </tbody>\n",
       "</table>\n",
       "<p>811 rows × 4 columns</p>\n",
       "</div>"
      ],
      "text/plain": [
       "     conflict_id start_date2 ep_end_date  start_prec2\n",
       "0          13637  2015-03-03         NaN            1\n",
       "1            333  1978-04-27         NaN            1\n",
       "2            431  1979-12-27  1979-12-28            1\n",
       "3          13692  2001-10-07  2001-11-13            1\n",
       "4            215  1946-10-22  1946-12-31            1\n",
       "..           ...         ...         ...          ...\n",
       "806          402  1994-04-28  1994-07-04            2\n",
       "807          318  1967-09-05         NaN            1\n",
       "808          318  1967-09-05  1968-12-31            1\n",
       "809          318  1973-04-04         NaN            1\n",
       "810          318  1973-04-04  1979-12-21            1\n",
       "\n",
       "[811 rows x 4 columns]"
      ]
     },
     "execution_count": 15,
     "metadata": {},
     "output_type": "execute_result"
    }
   ],
   "source": [
    "ucdp_episode"
   ]
  },
  {
   "cell_type": "markdown",
   "metadata": {},
   "source": [
    "Simple visual examination shows that the primary key - conflict_id + start_date2 - is not unique. But let's create a function that can do this for us."
   ]
  },
  {
   "cell_type": "code",
   "execution_count": 16,
   "metadata": {},
   "outputs": [],
   "source": [
    "def check_key_uniqueness(df, key:list):\n",
    "    orig_rows = len(df)\n",
    "    mod_df = df.drop_duplicates(subset=key)\n",
    "    mod_rows = len(mod_df)\n",
    "    if orig_rows == mod_rows:\n",
    "        return True\n",
    "    else:\n",
    "        return False"
   ]
  },
  {
   "cell_type": "code",
   "execution_count": 17,
   "metadata": {},
   "outputs": [
    {
     "data": {
      "text/plain": [
       "False"
      ]
     },
     "execution_count": 17,
     "metadata": {},
     "output_type": "execute_result"
    }
   ],
   "source": [
    "check_key_uniqueness(ucdp_episode, ['conflict_id', 'start_date2'])"
   ]
  },
  {
   "cell_type": "code",
   "execution_count": 18,
   "metadata": {},
   "outputs": [
    {
     "data": {
      "text/html": [
       "<div>\n",
       "<style scoped>\n",
       "    .dataframe tbody tr th:only-of-type {\n",
       "        vertical-align: middle;\n",
       "    }\n",
       "\n",
       "    .dataframe tbody tr th {\n",
       "        vertical-align: top;\n",
       "    }\n",
       "\n",
       "    .dataframe thead th {\n",
       "        text-align: right;\n",
       "    }\n",
       "</style>\n",
       "<table border=\"1\" class=\"dataframe\">\n",
       "  <thead>\n",
       "    <tr style=\"text-align: right;\">\n",
       "      <th></th>\n",
       "      <th>conflict_id</th>\n",
       "      <th>start_date2</th>\n",
       "      <th>ep_end_date</th>\n",
       "      <th>start_prec2</th>\n",
       "    </tr>\n",
       "  </thead>\n",
       "  <tbody>\n",
       "    <tr>\n",
       "      <th>48</th>\n",
       "      <td>200</td>\n",
       "      <td>1946-07-21</td>\n",
       "      <td>1946-07-21</td>\n",
       "      <td>2</td>\n",
       "    </tr>\n",
       "    <tr>\n",
       "      <th>49</th>\n",
       "      <td>200</td>\n",
       "      <td>1952-04-09</td>\n",
       "      <td>1952-04-12</td>\n",
       "      <td>1</td>\n",
       "    </tr>\n",
       "    <tr>\n",
       "      <th>50</th>\n",
       "      <td>200</td>\n",
       "      <td>1967-03-31</td>\n",
       "      <td>1967-10-16</td>\n",
       "      <td>3</td>\n",
       "    </tr>\n",
       "    <tr>\n",
       "      <th>70</th>\n",
       "      <td>201</td>\n",
       "      <td>1946-08-31</td>\n",
       "      <td>1953-11-09</td>\n",
       "      <td>3</td>\n",
       "    </tr>\n",
       "    <tr>\n",
       "      <th>69</th>\n",
       "      <td>201</td>\n",
       "      <td>1946-08-31</td>\n",
       "      <td>NaN</td>\n",
       "      <td>3</td>\n",
       "    </tr>\n",
       "    <tr>\n",
       "      <th>...</th>\n",
       "      <td>...</td>\n",
       "      <td>...</td>\n",
       "      <td>...</td>\n",
       "      <td>...</td>\n",
       "    </tr>\n",
       "    <tr>\n",
       "      <th>82</th>\n",
       "      <td>14129</td>\n",
       "      <td>2017-12-08</td>\n",
       "      <td>NaN</td>\n",
       "      <td>2</td>\n",
       "    </tr>\n",
       "    <tr>\n",
       "      <th>371</th>\n",
       "      <td>14268</td>\n",
       "      <td>2017-06-11</td>\n",
       "      <td>2017-06-11</td>\n",
       "      <td>1</td>\n",
       "    </tr>\n",
       "    <tr>\n",
       "      <th>635</th>\n",
       "      <td>14275</td>\n",
       "      <td>2016-06-01</td>\n",
       "      <td>NaN</td>\n",
       "      <td>1</td>\n",
       "    </tr>\n",
       "    <tr>\n",
       "      <th>758</th>\n",
       "      <td>14333</td>\n",
       "      <td>2016-03-07</td>\n",
       "      <td>2016-11-09</td>\n",
       "      <td>1</td>\n",
       "    </tr>\n",
       "    <tr>\n",
       "      <th>400</th>\n",
       "      <td>14609</td>\n",
       "      <td>2018-04-29</td>\n",
       "      <td>NaN</td>\n",
       "      <td>1</td>\n",
       "    </tr>\n",
       "  </tbody>\n",
       "</table>\n",
       "<p>811 rows × 4 columns</p>\n",
       "</div>"
      ],
      "text/plain": [
       "     conflict_id start_date2 ep_end_date  start_prec2\n",
       "48           200  1946-07-21  1946-07-21            2\n",
       "49           200  1952-04-09  1952-04-12            1\n",
       "50           200  1967-03-31  1967-10-16            3\n",
       "70           201  1946-08-31  1953-11-09            3\n",
       "69           201  1946-08-31         NaN            3\n",
       "..           ...         ...         ...          ...\n",
       "82         14129  2017-12-08         NaN            2\n",
       "371        14268  2017-06-11  2017-06-11            1\n",
       "635        14275  2016-06-01         NaN            1\n",
       "758        14333  2016-03-07  2016-11-09            1\n",
       "400        14609  2018-04-29         NaN            1\n",
       "\n",
       "[811 rows x 4 columns]"
      ]
     },
     "execution_count": 18,
     "metadata": {},
     "output_type": "execute_result"
    }
   ],
   "source": [
    "ucdp_episode.sort_values(by=['conflict_id', 'start_date2', 'ep_end_date'])"
   ]
  },
  {
   "cell_type": "code",
   "execution_count": 19,
   "metadata": {},
   "outputs": [
    {
     "data": {
      "text/plain": [
       "True"
      ]
     },
     "execution_count": 19,
     "metadata": {},
     "output_type": "execute_result"
    }
   ],
   "source": [
    "ucdp_episode = ucdp_episode.sort_values(by=['conflict_id', 'start_date2', 'ep_end_date']) \\\n",
    "                           .drop_duplicates(subset=['conflict_id', 'start_date2'], keep='first')\n",
    "check_key_uniqueness(ucdp_episode, ['conflict_id', 'start_date2'])"
   ]
  },
  {
   "cell_type": "code",
   "execution_count": null,
   "metadata": {},
   "outputs": [],
   "source": []
  }
 ],
 "metadata": {
  "kernelspec": {
   "display_name": "Python [conda env:ds-base-env] *",
   "language": "python",
   "name": "conda-env-ds-base-env-py"
  },
  "language_info": {
   "codemirror_mode": {
    "name": "ipython",
    "version": 3
   },
   "file_extension": ".py",
   "mimetype": "text/x-python",
   "name": "python",
   "nbconvert_exporter": "python",
   "pygments_lexer": "ipython3",
   "version": "3.8.0"
  }
 },
 "nbformat": 4,
 "nbformat_minor": 4
}
