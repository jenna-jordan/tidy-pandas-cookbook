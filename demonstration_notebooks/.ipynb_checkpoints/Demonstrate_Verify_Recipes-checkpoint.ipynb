{
 "cells": [
  {
   "cell_type": "markdown",
   "metadata": {},
   "source": [
    "# Verify\n",
    "\n",
    "Recipes to verify datasets comply with specified uniqueness, integrity, and check constraints."
   ]
  },
  {
   "cell_type": "code",
   "execution_count": 1,
   "metadata": {},
   "outputs": [],
   "source": [
    "import pandas as pd"
   ]
  },
  {
   "cell_type": "markdown",
   "metadata": {},
   "source": [
    "## Load Example Datasets\n",
    "\n",
    "The \"territorial change\" dataset from the CoW has several columns with polity identifiers. Some of these are official country codes, contained in the 'states2016' dataset. Others are supplementary codes for territories - polities that don't rise to the level of statehood by CoW's estimation. These codes are contained in a seperate pdf file. The table in the pdf file has been converted into a csv file using Tabula, resulting in the 'Territories' dataset. To have a complete list of polity codes, the states and territories need to be concatenated."
   ]
  },
  {
   "cell_type": "code",
   "execution_count": 2,
   "metadata": {},
   "outputs": [],
   "source": [
    "tc = pd.read_csv(\"../example_datasets/source_data/tc2014.csv\", encoding='utf-8', na_values=[-9, '.'])"
   ]
  },
  {
   "cell_type": "code",
   "execution_count": 3,
   "metadata": {},
   "outputs": [],
   "source": [
    "states = pd.read_csv(\"../example_datasets/source_data/states2016.csv\", encoding='utf-8', \n",
    "                     usecols=['ccode', 'statenme', 'styear', 'endyear']) \\\n",
    "            .rename(columns= {'ccode':'id', 'statenme':'name', 'styear':'startyear'})\n",
    "states['type'] = 'state'"
   ]
  },
  {
   "cell_type": "code",
   "execution_count": 4,
   "metadata": {},
   "outputs": [],
   "source": [
    "terr = pd.read_csv(\"../example_datasets/source_data/Territories.csv\", encoding='utf-8', \n",
    "                   usecols=['Entity Number', 'Name', 'Begin Year', 'End Year']) \\\n",
    "            .rename(columns={'Entity Number':'id', 'Name':'name', 'Begin Year':'startyear', 'End Year':'endyear'})\n",
    "terr['type'] = 'territory'"
   ]
  },
  {
   "cell_type": "code",
   "execution_count": 5,
   "metadata": {},
   "outputs": [],
   "source": [
    "pol = pd.concat([states, terr])"
   ]
  },
  {
   "cell_type": "code",
   "execution_count": 6,
   "metadata": {},
   "outputs": [
    {
     "data": {
      "text/html": [
       "<div>\n",
       "<style scoped>\n",
       "    .dataframe tbody tr th:only-of-type {\n",
       "        vertical-align: middle;\n",
       "    }\n",
       "\n",
       "    .dataframe tbody tr th {\n",
       "        vertical-align: top;\n",
       "    }\n",
       "\n",
       "    .dataframe thead th {\n",
       "        text-align: right;\n",
       "    }\n",
       "</style>\n",
       "<table border=\"1\" class=\"dataframe\">\n",
       "  <thead>\n",
       "    <tr style=\"text-align: right;\">\n",
       "      <th></th>\n",
       "      <th>id</th>\n",
       "      <th>name</th>\n",
       "      <th>startyear</th>\n",
       "      <th>endyear</th>\n",
       "      <th>type</th>\n",
       "    </tr>\n",
       "  </thead>\n",
       "  <tbody>\n",
       "    <tr>\n",
       "      <th>0</th>\n",
       "      <td>2</td>\n",
       "      <td>United States of America</td>\n",
       "      <td>1816.0</td>\n",
       "      <td>2016.0</td>\n",
       "      <td>state</td>\n",
       "    </tr>\n",
       "    <tr>\n",
       "      <th>1</th>\n",
       "      <td>20</td>\n",
       "      <td>Canada</td>\n",
       "      <td>1920.0</td>\n",
       "      <td>2016.0</td>\n",
       "      <td>state</td>\n",
       "    </tr>\n",
       "    <tr>\n",
       "      <th>2</th>\n",
       "      <td>31</td>\n",
       "      <td>Bahamas</td>\n",
       "      <td>1973.0</td>\n",
       "      <td>2016.0</td>\n",
       "      <td>state</td>\n",
       "    </tr>\n",
       "    <tr>\n",
       "      <th>3</th>\n",
       "      <td>40</td>\n",
       "      <td>Cuba</td>\n",
       "      <td>1902.0</td>\n",
       "      <td>1906.0</td>\n",
       "      <td>state</td>\n",
       "    </tr>\n",
       "    <tr>\n",
       "      <th>4</th>\n",
       "      <td>40</td>\n",
       "      <td>Cuba</td>\n",
       "      <td>1909.0</td>\n",
       "      <td>2016.0</td>\n",
       "      <td>state</td>\n",
       "    </tr>\n",
       "    <tr>\n",
       "      <th>...</th>\n",
       "      <td>...</td>\n",
       "      <td>...</td>\n",
       "      <td>...</td>\n",
       "      <td>...</td>\n",
       "      <td>...</td>\n",
       "    </tr>\n",
       "    <tr>\n",
       "      <th>2646</th>\n",
       "      <td>9985</td>\n",
       "      <td>Argentine Antarctica</td>\n",
       "      <td>1942.0</td>\n",
       "      <td>1993.0</td>\n",
       "      <td>territory</td>\n",
       "    </tr>\n",
       "    <tr>\n",
       "      <th>2647</th>\n",
       "      <td>9986</td>\n",
       "      <td>Chilean Antarctica</td>\n",
       "      <td>1940.0</td>\n",
       "      <td>1993.0</td>\n",
       "      <td>territory</td>\n",
       "    </tr>\n",
       "    <tr>\n",
       "      <th>2648</th>\n",
       "      <td>9987</td>\n",
       "      <td>Neu Schwabenland</td>\n",
       "      <td>1939.0</td>\n",
       "      <td>1945.0</td>\n",
       "      <td>territory</td>\n",
       "    </tr>\n",
       "    <tr>\n",
       "      <th>2649</th>\n",
       "      <td>9991</td>\n",
       "      <td>Peter I I.</td>\n",
       "      <td>1931.0</td>\n",
       "      <td>1993.0</td>\n",
       "      <td>territory</td>\n",
       "    </tr>\n",
       "    <tr>\n",
       "      <th>2650</th>\n",
       "      <td>9993</td>\n",
       "      <td>Bouvet I.</td>\n",
       "      <td>1927.0</td>\n",
       "      <td>1993.0</td>\n",
       "      <td>territory</td>\n",
       "    </tr>\n",
       "  </tbody>\n",
       "</table>\n",
       "<p>2894 rows × 5 columns</p>\n",
       "</div>"
      ],
      "text/plain": [
       "        id                      name  startyear  endyear       type\n",
       "0        2  United States of America     1816.0   2016.0      state\n",
       "1       20                    Canada     1920.0   2016.0      state\n",
       "2       31                   Bahamas     1973.0   2016.0      state\n",
       "3       40                      Cuba     1902.0   1906.0      state\n",
       "4       40                      Cuba     1909.0   2016.0      state\n",
       "...    ...                       ...        ...      ...        ...\n",
       "2646  9985      Argentine Antarctica     1942.0   1993.0  territory\n",
       "2647  9986        Chilean Antarctica     1940.0   1993.0  territory\n",
       "2648  9987          Neu Schwabenland     1939.0   1945.0  territory\n",
       "2649  9991                Peter I I.     1931.0   1993.0  territory\n",
       "2650  9993                 Bouvet I.     1927.0   1993.0  territory\n",
       "\n",
       "[2894 rows x 5 columns]"
      ]
     },
     "execution_count": 6,
     "metadata": {},
     "output_type": "execute_result"
    }
   ],
   "source": [
    "pol"
   ]
  },
  {
   "cell_type": "markdown",
   "metadata": {},
   "source": [
    "## Check Referential Integrity"
   ]
  },
  {
   "cell_type": "markdown",
   "metadata": {},
   "source": [
    "The 'gainer', 'entity', and 'loser' columns all refer to a polity - and that polity should exist in the polity table. In database terms, tc's 'gainer', 'entity', and 'loser' are \"foreign keys\" to pol's 'id'.\n",
    "\n",
    "Let's make sure that all polity IDs in 'tc' also exist in 'pol'."
   ]
  },
  {
   "cell_type": "code",
   "execution_count": 7,
   "metadata": {},
   "outputs": [
    {
     "data": {
      "text/html": [
       "<div>\n",
       "<style scoped>\n",
       "    .dataframe tbody tr th:only-of-type {\n",
       "        vertical-align: middle;\n",
       "    }\n",
       "\n",
       "    .dataframe tbody tr th {\n",
       "        vertical-align: top;\n",
       "    }\n",
       "\n",
       "    .dataframe thead th {\n",
       "        text-align: right;\n",
       "    }\n",
       "</style>\n",
       "<table border=\"1\" class=\"dataframe\">\n",
       "  <thead>\n",
       "    <tr style=\"text-align: right;\">\n",
       "      <th></th>\n",
       "      <th>number</th>\n",
       "      <th>gainer</th>\n",
       "      <th>entity</th>\n",
       "      <th>loser</th>\n",
       "    </tr>\n",
       "  </thead>\n",
       "  <tbody>\n",
       "    <tr>\n",
       "      <th>0</th>\n",
       "      <td>3</td>\n",
       "      <td>160</td>\n",
       "      <td>160.0</td>\n",
       "      <td>230.0</td>\n",
       "    </tr>\n",
       "    <tr>\n",
       "      <th>1</th>\n",
       "      <td>4</td>\n",
       "      <td>200</td>\n",
       "      <td>790.0</td>\n",
       "      <td>790.0</td>\n",
       "    </tr>\n",
       "    <tr>\n",
       "      <th>2</th>\n",
       "      <td>5</td>\n",
       "      <td>200</td>\n",
       "      <td>420.0</td>\n",
       "      <td>NaN</td>\n",
       "    </tr>\n",
       "    <tr>\n",
       "      <th>3</th>\n",
       "      <td>28</td>\n",
       "      <td>220</td>\n",
       "      <td>433.0</td>\n",
       "      <td>200.0</td>\n",
       "    </tr>\n",
       "    <tr>\n",
       "      <th>4</th>\n",
       "      <td>29</td>\n",
       "      <td>365</td>\n",
       "      <td>365.0</td>\n",
       "      <td>NaN</td>\n",
       "    </tr>\n",
       "    <tr>\n",
       "      <th>...</th>\n",
       "      <td>...</td>\n",
       "      <td>...</td>\n",
       "      <td>...</td>\n",
       "      <td>...</td>\n",
       "    </tr>\n",
       "    <tr>\n",
       "      <th>832</th>\n",
       "      <td>886</td>\n",
       "      <td>471</td>\n",
       "      <td>475.0</td>\n",
       "      <td>475.0</td>\n",
       "    </tr>\n",
       "    <tr>\n",
       "      <th>833</th>\n",
       "      <td>887</td>\n",
       "      <td>710</td>\n",
       "      <td>365.0</td>\n",
       "      <td>365.0</td>\n",
       "    </tr>\n",
       "    <tr>\n",
       "      <th>834</th>\n",
       "      <td>888</td>\n",
       "      <td>710</td>\n",
       "      <td>702.0</td>\n",
       "      <td>702.0</td>\n",
       "    </tr>\n",
       "    <tr>\n",
       "      <th>835</th>\n",
       "      <td>889</td>\n",
       "      <td>626</td>\n",
       "      <td>626.0</td>\n",
       "      <td>625.0</td>\n",
       "    </tr>\n",
       "    <tr>\n",
       "      <th>836</th>\n",
       "      <td>890</td>\n",
       "      <td>365</td>\n",
       "      <td>369.0</td>\n",
       "      <td>369.0</td>\n",
       "    </tr>\n",
       "  </tbody>\n",
       "</table>\n",
       "<p>837 rows × 4 columns</p>\n",
       "</div>"
      ],
      "text/plain": [
       "     number  gainer  entity  loser\n",
       "0         3     160   160.0  230.0\n",
       "1         4     200   790.0  790.0\n",
       "2         5     200   420.0    NaN\n",
       "3        28     220   433.0  200.0\n",
       "4        29     365   365.0    NaN\n",
       "..      ...     ...     ...    ...\n",
       "832     886     471   475.0  475.0\n",
       "833     887     710   365.0  365.0\n",
       "834     888     710   702.0  702.0\n",
       "835     889     626   626.0  625.0\n",
       "836     890     365   369.0  369.0\n",
       "\n",
       "[837 rows x 4 columns]"
      ]
     },
     "execution_count": 7,
     "metadata": {},
     "output_type": "execute_result"
    }
   ],
   "source": [
    "tc[['number', 'gainer', 'entity', 'loser']]"
   ]
  },
  {
   "cell_type": "code",
   "execution_count": 8,
   "metadata": {},
   "outputs": [
    {
     "data": {
      "text/plain": [
       "{0, 1}"
      ]
     },
     "execution_count": 8,
     "metadata": {},
     "output_type": "execute_result"
    }
   ],
   "source": [
    "polities = set(pol['id'].dropna().unique().tolist())\n",
    "tc_gainers = set(tc['gainer'].dropna().unique().tolist())\n",
    "tc_gainers - polities"
   ]
  },
  {
   "cell_type": "code",
   "execution_count": 9,
   "metadata": {},
   "outputs": [
    {
     "data": {
      "text/plain": [
       "{0.0, 1.0, 822.0}"
      ]
     },
     "execution_count": 9,
     "metadata": {},
     "output_type": "execute_result"
    }
   ],
   "source": [
    "tc_losers = set(tc['loser'].dropna().unique().tolist())\n",
    "tc_losers - polities"
   ]
  },
  {
   "cell_type": "code",
   "execution_count": 10,
   "metadata": {},
   "outputs": [
    {
     "data": {
      "text/plain": [
       "{822.0}"
      ]
     },
     "execution_count": 10,
     "metadata": {},
     "output_type": "execute_result"
    }
   ],
   "source": [
    "tc_entities = set(tc['entity'].dropna().unique().tolist())\n",
    "tc_entities - polities"
   ]
  },
  {
   "cell_type": "markdown",
   "metadata": {},
   "source": [
    "Looks like the polity IDs 0, 1, and 822 are missing from the polity table.\n",
    "\n",
    "Let's create a function that perform this check more generally."
   ]
  },
  {
   "cell_type": "code",
   "execution_count": 11,
   "metadata": {},
   "outputs": [],
   "source": [
    "def check_ids_ref_integrity(primary_df, pdf_id:str, related_df, rdf_fk:list or str, verbose = False):\n",
    "    if type(rdf_fk) == str:\n",
    "        rdf_fk = [rdf_fk]\n",
    "    \n",
    "    ref_integrity = True\n",
    "    missing_ids = set()\n",
    "    \n",
    "    p_ids = set(primary_df[pdf_id].dropna().unique().tolist())\n",
    "    for c in rdf_fk:\n",
    "        f_ids = set(related_df[c].dropna().unique().tolist())\n",
    "        diff = f_ids - p_ids\n",
    "        if len(diff):\n",
    "            ref_integrity = False\n",
    "            missing_ids.update(diff)\n",
    "    \n",
    "    if verbose:\n",
    "        return missing_ids\n",
    "    else:\n",
    "        return ref_integrity"
   ]
  },
  {
   "cell_type": "code",
   "execution_count": 12,
   "metadata": {},
   "outputs": [
    {
     "data": {
      "text/plain": [
       "False"
      ]
     },
     "execution_count": 12,
     "metadata": {},
     "output_type": "execute_result"
    }
   ],
   "source": [
    "check_ids_ref_integrity(primary_df = pol, pdf_id = 'id', \n",
    "                    related_df = tc, rdf_fk = 'gainer')"
   ]
  },
  {
   "cell_type": "code",
   "execution_count": 13,
   "metadata": {},
   "outputs": [
    {
     "data": {
      "text/plain": [
       "{0, 1, 822.0}"
      ]
     },
     "execution_count": 13,
     "metadata": {},
     "output_type": "execute_result"
    }
   ],
   "source": [
    "check_ids_ref_integrity(primary_df = pol, pdf_id = 'id', \n",
    "                    related_df = tc, \n",
    "                    rdf_fk = ['gainer', 'loser', 'entity'], \n",
    "                    verbose = True)"
   ]
  },
  {
   "cell_type": "code",
   "execution_count": null,
   "metadata": {},
   "outputs": [],
   "source": []
  }
 ],
 "metadata": {
  "kernelspec": {
   "display_name": "Python [conda env:ds-base-env] *",
   "language": "python",
   "name": "conda-env-ds-base-env-py"
  },
  "language_info": {
   "codemirror_mode": {
    "name": "ipython",
    "version": 3
   },
   "file_extension": ".py",
   "mimetype": "text/x-python",
   "name": "python",
   "nbconvert_exporter": "python",
   "pygments_lexer": "ipython3",
   "version": "3.8.0"
  }
 },
 "nbformat": 4,
 "nbformat_minor": 4
}
